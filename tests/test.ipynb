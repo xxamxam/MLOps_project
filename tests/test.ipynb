{
 "cells": [
  {
   "cell_type": "markdown",
   "metadata": {},
   "source": [
    "накинем возможный алгоритм"
   ]
  },
  {
   "cell_type": "code",
   "execution_count": 46,
   "metadata": {},
   "outputs": [],
   "source": [
    "import numpy as np\n",
    "import os\n",
    "import sys\n",
    "from pathlib import Path\n",
    "from importlib import reload\n",
    "sys.path.append(os.getcwd())\n",
    "sys.path.append(os.getcwd() + '/src')\n",
    "sys.path.append(os.getcwd() + '/cacheing')\n",
    "sys.path.append(os.getcwd() + '/cacheing/benchmark')\n"
   ]
  },
  {
   "cell_type": "markdown",
   "metadata": {},
   "source": [
    "# random testcases"
   ]
  },
  {
   "cell_type": "code",
   "execution_count": 47,
   "metadata": {
    "notebookRunGroups": {
     "groupValue": "12"
    }
   },
   "outputs": [
    {
     "name": "stdout",
     "output_type": "stream",
     "text": [
      "The autoreload extension is already loaded. To reload it, use:\n",
      "  %reload_ext autoreload\n"
     ]
    }
   ],
   "source": [
    "%load_ext autoreload\n",
    "%autoreload 2\n",
    "\n",
    "from dataset_generator import generate\n",
    "t = 10_000\n",
    "n = 500\n",
    "cache_length = 50\n",
    "\n",
    "dataset = generate(n, t, 0)"
   ]
  },
  {
   "cell_type": "code",
   "execution_count": 48,
   "metadata": {},
   "outputs": [
    {
     "name": "stderr",
     "output_type": "stream",
     "text": [
      "/var/folders/ks/7b2rqlpx6j54hmxc16v83p980000gn/T/ipykernel_85429/2568063784.py:4: UserWarning: Implicit dimension choice for softmax has been deprecated. Change the call to include dim=X as an argument.\n",
      "  probs = F.softmax(a)\n"
     ]
    },
    {
     "data": {
      "text/plain": [
       "tensor(7.3812, dtype=torch.float64)"
      ]
     },
     "execution_count": 48,
     "metadata": {},
     "output_type": "execute_result"
    }
   ],
   "source": [
    "import torch.nn.functional as F\n",
    "import torch\n",
    "a = torch.tensor(np.random.rand(1000)) * 2\n",
    "probs = F.softmax(a)\n",
    "probs.max() / probs.min()"
   ]
  },
  {
   "cell_type": "code",
   "execution_count": 49,
   "metadata": {
    "notebookRunGroups": {
     "groupValue": "12"
    }
   },
   "outputs": [
    {
     "name": "stdout",
     "output_type": "stream",
     "text": [
      "page fault rate: 0.8871\n"
     ]
    }
   ],
   "source": [
    "from importlib import reload\n",
    "import LRU_algorithm as LRU\n",
    "LRU = reload(LRU)\n",
    "\n",
    "LRU_test_list  = [LRU.LRUCacheItem(i, f\"item {i}\") for i in range(n)]\n",
    "\n",
    "cache = LRU.LRUCache(length=cache_length, delta=5, verbose = True)\n",
    "\n",
    "for index in dataset:\n",
    "    item = LRU_test_list[index]\n",
    "    cache.getItem(item)\n",
    "print(f\"page fault rate: {cache.return_verbose()['loads'] / t}\")"
   ]
  },
  {
   "cell_type": "code",
   "execution_count": 50,
   "metadata": {
    "notebookRunGroups": {
     "groupValue": "12"
    }
   },
   "outputs": [
    {
     "name": "stdout",
     "output_type": "stream",
     "text": [
      "page fault rate: 0.8887\n",
      "page reuse rate: 0.2994\n"
     ]
    }
   ],
   "source": [
    "from importlib import reload \n",
    "import bandit_new as BDN\n",
    "BDN = reload(BDN)\n",
    "cache = BDN.BanditCache(capacity=  cache_length, history_capacity=  cache_length * 3, \n",
    "                                verbose = True, eps1 = 0.1, eps2 = 10)\n",
    "dataset = generate(n, t, 0)\n",
    "for index in dataset:\n",
    "    key = index\n",
    "    val =  10\n",
    "    cache[key] = val\n",
    "print(f\"page fault rate: {cache.return_verbose()['loads'] / t}\")\n",
    "print(f\"page reuse rate: {cache.return_verbose()['reuse'] / t}\")"
   ]
  },
  {
   "cell_type": "code",
   "execution_count": 51,
   "metadata": {
    "notebookRunGroups": {
     "groupValue": "1"
    }
   },
   "outputs": [
    {
     "name": "stdout",
     "output_type": "stream",
     "text": [
      "page fault rate: 0.8932\n"
     ]
    }
   ],
   "source": [
    "import second_chance as SC\n",
    "dataset = generate(n, t, 0)\n",
    "indices = [i for i in dataset]\n",
    "SC = reload(SC)\n",
    "print(f\"page fault rate: {SC.printHitsAndFaults(indices, cache_length) / t}\")\n"
   ]
  },
  {
   "cell_type": "code",
   "execution_count": 52,
   "metadata": {
    "notebookRunGroups": {
     "groupValue": "1"
    }
   },
   "outputs": [
    {
     "name": "stdout",
     "output_type": "stream",
     "text": [
      "page fault rate: 0.887\n"
     ]
    }
   ],
   "source": [
    "from importlib import reload\n",
    "import dummy as DM\n",
    "DM = reload(DM)\n",
    "\n",
    "LRU_test_list  = [LRU.LRUCacheItem(i, f\"item {i}\") for i in range(n)]\n",
    "\n",
    "cache = DM.DummyCache(length=cache_length, delta=5, verbose = True)\n",
    "\n",
    "dataset = generate(n, t, 0)\n",
    "for index in dataset:\n",
    "    item = LRU_test_list[index]\n",
    "    cache.getItem(item)\n",
    "print(f\"page fault rate: {cache.return_verbose()['loads'] / t}\")"
   ]
  },
  {
   "cell_type": "code",
   "execution_count": 53,
   "metadata": {
    "notebookRunGroups": {
     "groupValue": ""
    }
   },
   "outputs": [
    {
     "name": "stdout",
     "output_type": "stream",
     "text": [
      "page fault rate: 0.598\n"
     ]
    }
   ],
   "source": [
    "from importlib import reload\n",
    "import belady_min as BM\n",
    "BM = reload(BM)\n",
    "\n",
    "BM_test_list  = [BM.LRUCacheItem(i, f\"item {i}\") for i in range(n)]\n",
    "\n",
    "dataset = generate(n, t, 0)\n",
    "indices = [i for i in dataset]\n",
    "cache = BM.BeladyMin(cache_length, order = indices, verbose = True)\n",
    "\n",
    "\n",
    "for index in indices:\n",
    "    item = BM_test_list[index]\n",
    "    cache.getItem(item)\n",
    "print(f\"page fault rate: {cache.return_verbose()['loads'] / t}\")"
   ]
  },
  {
   "cell_type": "markdown",
   "metadata": {},
   "source": [
    "# ML"
   ]
  },
  {
   "cell_type": "code",
   "execution_count": 3,
   "metadata": {},
   "outputs": [
    {
     "ename": "AttributeError",
     "evalue": "'function' object has no attribute 'np'",
     "output_type": "error",
     "traceback": [
      "\u001b[0;31m---------------------------------------------------------------------------\u001b[0m",
      "\u001b[0;31mAttributeError\u001b[0m                            Traceback (most recent call last)",
      "\u001b[1;32m/Users/ilgam/my_files/work/online_optimization/code/test.ipynb Ячейка 12\u001b[0m line \u001b[0;36m7\n\u001b[1;32m      <a href='vscode-notebook-cell:/Users/ilgam/my_files/work/online_optimization/code/test.ipynb#X31sZmlsZQ%3D%3D?line=4'>5</a>\u001b[0m     \u001b[39mreturn\u001b[39;00m np\u001b[39m.\u001b[39marray([\u001b[39m1\u001b[39m,\u001b[39m2\u001b[39m,\u001b[39m3\u001b[39m])\n\u001b[1;32m      <a href='vscode-notebook-cell:/Users/ilgam/my_files/work/online_optimization/code/test.ipynb#X31sZmlsZQ%3D%3D?line=5'>6</a>\u001b[0m f1()\n\u001b[0;32m----> <a href='vscode-notebook-cell:/Users/ilgam/my_files/work/online_optimization/code/test.ipynb#X31sZmlsZQ%3D%3D?line=6'>7</a>\u001b[0m f2(f1\u001b[39m.\u001b[39;49mnp)\n",
      "\u001b[0;31mAttributeError\u001b[0m: 'function' object has no attribute 'np'"
     ]
    }
   ],
   "source": [
    "def f1():\n",
    "    import numpy as np\n",
    "    return np.array([1,2,3])\n",
    "def f2(np):\n",
    "    return np.array([1,2,3])\n",
    "f1()\n",
    "f2(f1.np)"
   ]
  }
 ],
 "metadata": {
  "kernelspec": {
   "display_name": "work",
   "language": "python",
   "name": "python3"
  },
  "language_info": {
   "codemirror_mode": {
    "name": "ipython",
    "version": 3
   },
   "file_extension": ".py",
   "mimetype": "text/x-python",
   "name": "python",
   "nbconvert_exporter": "python",
   "pygments_lexer": "ipython3",
   "version": "3.11.4"
  },
  "orig_nbformat": 4
 },
 "nbformat": 4,
 "nbformat_minor": 2
}
